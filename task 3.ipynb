{
 "cells": [
  {
   "cell_type": "code",
   "execution_count": 1,
   "id": "a729c6b5",
   "metadata": {},
   "outputs": [],
   "source": [
    "import pandas as pd"
   ]
  },
  {
   "cell_type": "code",
   "execution_count": 2,
   "id": "bb7f4b33",
   "metadata": {},
   "outputs": [],
   "source": [
    "# Load data from CSV file using pandas module\n",
    "def load_data(file_path):\n",
    "    return pd.read_csv(file_path)"
   ]
  },
  {
   "cell_type": "code",
   "execution_count": 3,
   "id": "1a813dee",
   "metadata": {},
   "outputs": [],
   "source": [
    "data = load_data('Airbnb_UK_2022.csv')"
   ]
  },
  {
   "cell_type": "code",
   "execution_count": 4,
   "id": "1b2e2087",
   "metadata": {},
   "outputs": [
    {
     "name": "stdout",
     "output_type": "stream",
     "text": [
      "Top 10 amenities or features provided by Airbnb hosts:\n",
      "Kitchen                    7671\n",
      "Smoke alarm                7461\n",
      "Wifi                       6733\n",
      "Iron                       6710\n",
      "Hangers                    6633\n",
      "Hot water                  6600\n",
      "Long term stays allowed    6585\n",
      "Hair dryer                 6070\n",
      "Essentials                 6044\n",
      "Carbon monoxide alarm      5992\n",
      "Name: amenities, dtype: int64\n",
      "\n"
     ]
    }
   ],
   "source": [
    "# Task 1: Identify the top 10 most popular amenities or features that Airbnb hosts provide to customer\n",
    "amenities_count = data['amenities'].str.split(',').explode().str.strip(' \"{}\"').value_counts()\n",
    "top_10_amenities = amenities_count[:10]\n",
    "print(f\"Top 10 amenities or features provided by Airbnb hosts:\\n{top_10_amenities}\\n\")\n"
   ]
  },
  {
   "cell_type": "code",
   "execution_count": 6,
   "id": "ba06c7c5",
   "metadata": {},
   "outputs": [
    {
     "name": "stdout",
     "output_type": "stream",
     "text": [
      "Average price of stay in each location:\n",
      "host_location\n",
      "Aberdeen          152.333333\n",
      "Aberystwyth        64.000000\n",
      "Addington         124.000000\n",
      "Ascot             300.000000\n",
      "Ashford            65.375000\n",
      "                     ...    \n",
      "Wolverton          87.000000\n",
      "Woodford           65.333333\n",
      "Worcester Park     37.000000\n",
      "Wraysbury          76.000000\n",
      "York              250.000000\n",
      "Name: price, Length: 309, dtype: float64\n",
      "\n"
     ]
    }
   ],
   "source": [
    "# Task 2: Analyse the average price of stay in each location\n",
    "avg_price_by_location = data.groupby('host_location')['price'].mean()\n",
    "print(f\"Average price of stay in each location:\\n{avg_price_by_location}\\n\")\n"
   ]
  },
  {
   "cell_type": "code",
   "execution_count": 7,
   "id": "0fa10d02",
   "metadata": {},
   "outputs": [
    {
     "name": "stdout",
     "output_type": "stream",
     "text": [
      "Average review scores rating for each location:\n",
      "host_location\n",
      "Aberdeen          4.256667\n",
      "Aberystwyth       4.820000\n",
      "Addington         4.710000\n",
      "Ascot             4.940000\n",
      "Ashford           4.596250\n",
      "                    ...   \n",
      "Wolverton         4.900000\n",
      "Woodford          4.883333\n",
      "Worcester Park    4.500000\n",
      "Wraysbury         4.550000\n",
      "York              4.630000\n",
      "Name: review_scores_rating, Length: 309, dtype: float64\n",
      "\n"
     ]
    }
   ],
   "source": [
    "# Task 3: Analyse the average review scores rating for each location\n",
    "avg_review_scores_by_location = data.groupby('host_location')['review_scores_rating'].mean()\n",
    "print(f\"Average review scores rating for each location:\\n{avg_review_scores_by_location}\\n\")\n"
   ]
  },
  {
   "cell_type": "code",
   "execution_count": 16,
   "id": "dca1ab21",
   "metadata": {},
   "outputs": [
    {
     "name": "stdout",
     "output_type": "stream",
     "text": [
      "Correlation coefficient between number of reviews and review scores rating in New York City: nan\n",
      "\n"
     ]
    }
   ],
   "source": [
    "# Task 4: Analyze the relationship between number of reviews and review scores rating for listings in a specified city\n",
    "city = 'New York City'\n",
    "city_data = data[data['host_location'] == city]\n",
    "\n",
    "# Calculate the correlation coefficient between the number of reviews and review scores rating\n",
    "correlation_coefficient = city_data['number_of_reviews'].corr(city_data['review_scores_rating'])\n",
    "print(f\"Correlation coefficient between number of reviews and review scores rating in {city}: {correlation_coefficient:.2f}\\n\")\n"
   ]
  },
  {
   "cell_type": "code",
   "execution_count": null,
   "id": "5e43d6df",
   "metadata": {},
   "outputs": [],
   "source": []
  }
 ],
 "metadata": {
  "kernelspec": {
   "display_name": "Python 3 (ipykernel)",
   "language": "python",
   "name": "python3"
  },
  "language_info": {
   "codemirror_mode": {
    "name": "ipython",
    "version": 3
   },
   "file_extension": ".py",
   "mimetype": "text/x-python",
   "name": "python",
   "nbconvert_exporter": "python",
   "pygments_lexer": "ipython3",
   "version": "3.9.5"
  }
 },
 "nbformat": 4,
 "nbformat_minor": 5
}
